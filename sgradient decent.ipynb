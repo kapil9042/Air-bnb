{
 "cells": [
  {
   "cell_type": "code",
   "execution_count": null,
   "metadata": {},
   "outputs": [],
   "source": [
    "\n",
    "\n",
    "import matplotlib.pyplot as plt\n",
    "import pandas as pd\n",
    "from sklearn import linear_model\n",
    "from sklearn.model_selection import train_test_split\n",
    "from sklearn.metrics import mean_squared_error\n",
    "from sklearn.metrics import r2_score\n",
    "import math\n",
    "\n",
    "dataset = pd.read_csv('father_son_heights.csv')\n",
    "\n",
    "x = dataset['Father'].values.reshape(-1,1)\n",
    "y = dataset['Son'].values.reshape(-1,1)\n",
    "\n",
    "x_train, x_test, y_train, y_test = train_test_split(x,y,test_size=0.3)\n",
    "model = linear_model.SGDRegressor(max_iter=500000, tol=0.0001, eta0=0.0001)\n",
    "model.fit(x_train, y_train)\n",
    "\n",
    "print('Predicted coeffient value is: ', model.coef_)\n",
    "print('Predicted intercept value is: ', model.intercept_)\n",
    "\n",
    "ndata = len(y)\n",
    "y_pred = model.predict(x_test)\n",
    "MSE = mean_squared_error(y_test, y_pred)\n",
    "print('R2_SCORE value is: ', model.score(x, y))\n",
    "print('MSE value is: ', MSE)\n",
    "print('RMSE value is: ', math.sqrt(MSE))\n",
    "print('RSE value is: ', math.sqrt(MSE * ndata / ndata-2))\n",
    "plt.figure()\n",
    "plt.scatter(x_train,y_train,c='b')\n",
    "plt.plot(x_test, y_pred, c='r')\n",
    "plt.xlabel('Father\\'s Height (inch)')\n",
    "plt.ylabel('Son\\'s Height (inch)')\n",
    "plt.show()\n"
   ]
  }
 ],
 "metadata": {
  "kernelspec": {
   "display_name": "Python 3",
   "language": "python",
   "name": "python3"
  },
  "language_info": {
   "codemirror_mode": {
    "name": "ipython",
    "version": 3
   },
   "file_extension": ".py",
   "mimetype": "text/x-python",
   "name": "python",
   "nbconvert_exporter": "python",
   "pygments_lexer": "ipython3",
   "version": "3.8.5"
  }
 },
 "nbformat": 4,
 "nbformat_minor": 4
}
